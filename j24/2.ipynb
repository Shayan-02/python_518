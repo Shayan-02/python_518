{
 "cells": [
  {
   "cell_type": "code",
   "execution_count": 1,
   "id": "fcabfb34",
   "metadata": {},
   "outputs": [],
   "source": [
    "import pandas as pd\n",
    "import numpy as np"
   ]
  },
  {
   "cell_type": "code",
   "execution_count": 2,
   "id": "cc3d0a32",
   "metadata": {},
   "outputs": [
    {
     "data": {
      "text/plain": [
       "{'name': ['amin', 'ali', 'reza', 'amir', 'mohsen', 'hossein'],\n",
       " 'age': array([20., 23., nan, 22., nan, 19.]),\n",
       " 'degree': ['BS', 'BS', 'MS', 'MS', 'PHD', 'BS'],\n",
       " 'ins': [True, False, True, False, False, False],\n",
       " 'gpa': [3.5, 3.7, 3.6, 3.8, 3.9, 4]}"
      ]
     },
     "execution_count": 2,
     "metadata": {},
     "output_type": "execute_result"
    }
   ],
   "source": [
    "student_info = {\n",
    "    \"name\": [\"amin\", \"ali\", \"reza\", \"amir\", \"mohsen\", \"hossein\"],\n",
    "    \"age\": np.array([20, 23, np.nan, 22, np.nan, 19]),\n",
    "    \"degree\": [\"BS\", \"BS\", \"MS\", \"MS\", \"PHD\", \"BS\"],\n",
    "    \"ins\": [True, False, True, False, False, False],\n",
    "    \"gpa\": [3.5, 3.7, 3.6, 3.8, 3.9, 4],\n",
    "}\n",
    "student_info"
   ]
  },
  {
   "cell_type": "code",
   "execution_count": 3,
   "id": "2d782ae9",
   "metadata": {},
   "outputs": [
    {
     "data": {
      "text/html": [
       "<div>\n",
       "<style scoped>\n",
       "    .dataframe tbody tr th:only-of-type {\n",
       "        vertical-align: middle;\n",
       "    }\n",
       "\n",
       "    .dataframe tbody tr th {\n",
       "        vertical-align: top;\n",
       "    }\n",
       "\n",
       "    .dataframe thead th {\n",
       "        text-align: right;\n",
       "    }\n",
       "</style>\n",
       "<table border=\"1\" class=\"dataframe\">\n",
       "  <thead>\n",
       "    <tr style=\"text-align: right;\">\n",
       "      <th></th>\n",
       "      <th>name</th>\n",
       "      <th>age</th>\n",
       "      <th>degree</th>\n",
       "      <th>ins</th>\n",
       "      <th>gpa</th>\n",
       "    </tr>\n",
       "  </thead>\n",
       "  <tbody>\n",
       "    <tr>\n",
       "      <th>0</th>\n",
       "      <td>amin</td>\n",
       "      <td>20.0</td>\n",
       "      <td>BS</td>\n",
       "      <td>True</td>\n",
       "      <td>3.5</td>\n",
       "    </tr>\n",
       "    <tr>\n",
       "      <th>1</th>\n",
       "      <td>ali</td>\n",
       "      <td>23.0</td>\n",
       "      <td>BS</td>\n",
       "      <td>False</td>\n",
       "      <td>3.7</td>\n",
       "    </tr>\n",
       "    <tr>\n",
       "      <th>2</th>\n",
       "      <td>reza</td>\n",
       "      <td>NaN</td>\n",
       "      <td>MS</td>\n",
       "      <td>True</td>\n",
       "      <td>3.6</td>\n",
       "    </tr>\n",
       "    <tr>\n",
       "      <th>3</th>\n",
       "      <td>amir</td>\n",
       "      <td>22.0</td>\n",
       "      <td>MS</td>\n",
       "      <td>False</td>\n",
       "      <td>3.8</td>\n",
       "    </tr>\n",
       "    <tr>\n",
       "      <th>4</th>\n",
       "      <td>mohsen</td>\n",
       "      <td>NaN</td>\n",
       "      <td>PHD</td>\n",
       "      <td>False</td>\n",
       "      <td>3.9</td>\n",
       "    </tr>\n",
       "    <tr>\n",
       "      <th>5</th>\n",
       "      <td>hossein</td>\n",
       "      <td>19.0</td>\n",
       "      <td>BS</td>\n",
       "      <td>False</td>\n",
       "      <td>4.0</td>\n",
       "    </tr>\n",
       "  </tbody>\n",
       "</table>\n",
       "</div>"
      ],
      "text/plain": [
       "      name   age degree    ins  gpa\n",
       "0     amin  20.0     BS   True  3.5\n",
       "1      ali  23.0     BS  False  3.7\n",
       "2     reza   NaN     MS   True  3.6\n",
       "3     amir  22.0     MS  False  3.8\n",
       "4   mohsen   NaN    PHD  False  3.9\n",
       "5  hossein  19.0     BS  False  4.0"
      ]
     },
     "execution_count": 3,
     "metadata": {},
     "output_type": "execute_result"
    }
   ],
   "source": [
    "df = pd.DataFrame(student_info)\n",
    "df"
   ]
  },
  {
   "cell_type": "code",
   "execution_count": null,
   "id": "9253ea77",
   "metadata": {},
   "outputs": [],
   "source": []
  }
 ],
 "metadata": {
  "kernelspec": {
   "display_name": "Python 3",
   "language": "python",
   "name": "python3"
  },
  "language_info": {
   "codemirror_mode": {
    "name": "ipython",
    "version": 3
   },
   "file_extension": ".py",
   "mimetype": "text/x-python",
   "name": "python",
   "nbconvert_exporter": "python",
   "pygments_lexer": "ipython3",
   "version": "3.13.1"
  }
 },
 "nbformat": 4,
 "nbformat_minor": 5
}
